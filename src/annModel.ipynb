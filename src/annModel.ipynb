{
 "cells": [
  {
   "cell_type": "code",
   "execution_count": 1,
   "metadata": {
    "collapsed": false
   },
   "outputs": [
    {
     "name": "stderr",
     "output_type": "stream",
     "text": [
      "Using Theano backend.\n"
     ]
    }
   ],
   "source": [
    "import pandas as pd\n",
    "import numpy as np\n",
    "from sklearn.preprocessing import StandardScaler\n",
    "from sklearn.preprocessing import OneHotEncoder\n",
    "from sklearn.preprocessing import FunctionTransformer\n",
    "from sklearn import preprocessing\n",
    "from sklearn.pipeline import FeatureUnion, make_pipeline\n",
    "from datetime import datetime, timedelta\n",
    "from keras.layers.core import Dense, Dropout, Activation\n",
    "from keras.models import Sequential\n",
    "from keras.optimizers import SGD"
   ]
  },
  {
   "cell_type": "code",
   "execution_count": 2,
   "metadata": {
    "collapsed": true
   },
   "outputs": [],
   "source": [
    "loadtemp = pd.read_csv('./features/loadtemp_features_withsmoothtemp.csv')\n",
    "target_dates = pd.date_range('2004-1-1', '2008-7-8', freq='1h')\n",
    "target_dates = target_dates.delete(-1)\n",
    "loadtemp.index = target_dates"
   ]
  },
  {
   "cell_type": "code",
   "execution_count": 3,
   "metadata": {
    "collapsed": false
   },
   "outputs": [],
   "source": [
    "cols = loadtemp.columns\n",
    "input_features = [i for i in cols if 'loadzone' not in i]\n",
    "outputs = [i for i in cols if 'loadzone' in i]"
   ]
  },
  {
   "cell_type": "code",
   "execution_count": 4,
   "metadata": {
    "collapsed": true
   },
   "outputs": [],
   "source": [
    "bk_date_start = ['2005-3-6 00:00:00', '2005-6-20 00:00:00', '2005-9-10 00:00:00', '2005-12-25 00:00:00', '2006-2-13 00:00:00', '2006-5-25 00:00:00', '2006-8-2 00:00:00', '2006-11-22 00:00:00']\n",
    "bk_date_end = ['2005-3-12 23:00:00', '2005-6-26 23:00:00', '2005-9-16 23:00:00', '2005-12-31 23:00:00', '2006-2-19 23:00:00', '2006-5-31 23:00:00', '2006-8-8 23:00:00', '2006-11-28 23:00:00']\n",
    "fk_date_start = '2008-6-23 06:00:00'\n",
    "fk_date_end = '2008-6-30 05:00:00'\n",
    "total_date_start = '2004-1-1 00:00:00'\n",
    "total_date_end = '2008-7-7 23:00:00'\n",
    "total_index = pd.date_range(total_date_start, total_date_end, freq='1h')\n",
    "test_index = None\n",
    "for i in range(len(bk_date_start)):\n",
    "    s = bk_date_start[i]\n",
    "    t = bk_date_end[i]\n",
    "    if(i==0):\n",
    "        test_index = pd.date_range(s, t, freq='1h')\n",
    "    else:\n",
    "        tmp_range = pd.date_range(s, t, freq='1h')\n",
    "        test_index = test_index.union(tmp_range)\n",
    "test_index = test_index.union(pd.date_range(fk_date_start, total_date_end, freq='1h'))\n",
    "train_index = [i for i in total_index if i not in test_index]"
   ]
  },
  {
   "cell_type": "code",
   "execution_count": 5,
   "metadata": {
    "collapsed": true
   },
   "outputs": [],
   "source": [
    "train = loadtemp.ix[train_index]\n",
    "train = train.reset_index(drop=True)\n",
    "test = loadtemp.ix[test_index]\n",
    "test = test.reset_index(drop=True)"
   ]
  },
  {
   "cell_type": "code",
   "execution_count": 6,
   "metadata": {
    "collapsed": false
   },
   "outputs": [],
   "source": [
    "def selectdata(df, selected_cols):\n",
    "    df = df[selected_cols].copy()\n",
    "    return df"
   ]
  },
  {
   "cell_type": "code",
   "execution_count": 7,
   "metadata": {
    "collapsed": false
   },
   "outputs": [],
   "source": [
    "X = selectdata(train, input_features)\n",
    "X_test = selectdata(test, input_features)\n",
    "y = selectdata(train, outputs)\n",
    "y_test = selectdata(test, outputs)"
   ]
  },
  {
   "cell_type": "code",
   "execution_count": 8,
   "metadata": {
    "collapsed": true
   },
   "outputs": [],
   "source": [
    "X_scaled = preprocessing.scale(X)\n",
    "X_test_scaled = preprocessing.scale(X_test)\n",
    "y_scaled = preprocessing.scale(y)"
   ]
  },
  {
   "cell_type": "code",
   "execution_count": 9,
   "metadata": {
    "collapsed": false
   },
   "outputs": [],
   "source": [
    "#input_dim = X_scaled.shape[1] # 31"
   ]
  },
  {
   "cell_type": "code",
   "execution_count": 10,
   "metadata": {
    "collapsed": false
   },
   "outputs": [
    {
     "name": "stdout",
     "output_type": "stream",
     "text": [
      "Epoch 1/10\n",
      "37902/37902 [==============================] - 1s - loss: 0.3923     \n",
      "Epoch 2/10\n",
      "37902/37902 [==============================] - 1s - loss: 0.2590     \n",
      "Epoch 3/10\n",
      "37902/37902 [==============================] - 1s - loss: 0.2358     \n",
      "Epoch 4/10\n",
      "37902/37902 [==============================] - 2s - loss: 0.2221     \n",
      "Epoch 5/10\n",
      "37902/37902 [==============================] - 1s - loss: 0.2115     \n",
      "Epoch 6/10\n",
      "37902/37902 [==============================] - 1s - loss: 0.2049     \n",
      "Epoch 7/10\n",
      "37902/37902 [==============================] - 1s - loss: 0.2020     \n",
      "Epoch 8/10\n",
      "37902/37902 [==============================] - 1s - loss: 0.1998     \n",
      "Epoch 9/10\n",
      "37902/37902 [==============================] - 1s - loss: 0.1919     \n",
      "Epoch 10/10\n",
      "37902/37902 [==============================] - 1s - loss: 0.1922     \n"
     ]
    }
   ],
   "source": [
    "for i in range(y.shape[1]):\n",
    "    from keras.models import Sequential\n",
    "    model = Sequential()\n",
    "\n",
    "    model.add(Dense(output_dim=64, input_dim=31))\n",
    "    model.add(Activation('tanh'))\n",
    "    model.add(Dropout(0.2))\n",
    "    model.add(Dense(output_dim=20, input_dim=64))\n",
    "    model.add(Activation('relu'))\n",
    "    model.add(Dropout(0.2))\n",
    "    model.add(Dense(output_dim=1, input_dim=20))\n",
    "    model.add(Activation('linear'))\n",
    "    \n",
    "    model.compile(loss='mse',optimizer='sgd')\n",
    "     \n",
    "    model.fit(X_scaled, y_scaled[:,i])\n",
    "    y_test_pred = model.predict(X_test_scaled)\n",
    "    y_test[outputs[i]] = np.std(y[outputs[i]].values) * y_test_pred + np.mean(y[outputs[i]].values)"
   ]
  },
  {
   "cell_type": "code",
   "execution_count": null,
   "metadata": {
    "collapsed": true
   },
   "outputs": [],
   "source": [
    "loadtemp.ix[test_index,outputs] = y_test.values\n",
    "loadtemp.to_csv('./output/ann_keras_fit.csv', index=False)"
   ]
  }
 ],
 "metadata": {
  "kernelspec": {
   "display_name": "Python 2",
   "language": "python",
   "name": "python2"
  },
  "language_info": {
   "codemirror_mode": {
    "name": "ipython",
    "version": 2
   },
   "file_extension": ".py",
   "mimetype": "text/x-python",
   "name": "python",
   "nbconvert_exporter": "python",
   "pygments_lexer": "ipython2",
   "version": "2.7.11"
  }
 },
 "nbformat": 4,
 "nbformat_minor": 0
}
